{
 "cells": [
  {
   "cell_type": "code",
   "execution_count": 17,
   "id": "fe7faa9f-e475-4907-8586-8118ad6c355a",
   "metadata": {},
   "outputs": [],
   "source": [
    "import pandas as pd\n",
    "import glob\n",
    "df = pd.read_csv(\"ct_bus_details.csv\")\n",
    "df = pd.read_csv(\"hr_bus_details.csv\")\n",
    "df = pd.read_csv(\"jk_bus_details.csv\")\n",
    "df = pd.read_csv(\"ktcl_bus_details.csv\")\n",
    "df = pd.read_csv(\"nbs_bus_details.csv\")\n",
    "df = pd.read_csv(\"pepsu_bus_details.csv\")\n",
    "df = pd.read_csv(\"sbstc_bus_details.csv\")\n",
    "df = pd.read_csv(\"ts_bus_details.csv\")\n",
    "df = pd.read_csv(\"wb_bus_details.csv\")\n",
    "df = pd.read_csv(\"wbstc_bus_details.csv\")\n",
    "\n",
    "# List of CSV file paths\n",
    "csv_files = [\"ct_bus_details.csv\", \"hr_bus_details.csv\", \"jk_bus_details.csv\", \n",
    "             \"ktcl_bus_details.csv\", \"nbs_bus_details.csv\", \"pepsu_bus_details.csv\",\n",
    "             \"ts_bus_details.csv\", \"wb_bus_details.csv\", \"wbstc_bus_details.csv\", \n",
    "             \"sbstc_bus_details.csv\"]   \n",
    "\n",
    "# Read each CSV file into a DataFrame and store it in a list\n",
    "df = [pd.read_csv(file) for file in csv_files]\n",
    "\n"
   ]
  },
  {
   "cell_type": "code",
   "execution_count": 18,
   "id": "50aa53d8-1470-4346-81d4-e467fa03e33e",
   "metadata": {},
   "outputs": [],
   "source": [
    "# Concatenate all DataFrames in the list\n",
    "combined_df = pd.concat(df, ignore_index=True)\n",
    "\n",
    "combined_df.to_csv(\"bus5_routes.csv\", index=False)"
   ]
  },
  {
   "cell_type": "code",
   "execution_count": 19,
   "id": "efeb3e03-6f58-4bf6-bb12-16b2b06244e5",
   "metadata": {},
   "outputs": [],
   "source": [
    "#add id column\n",
    "id_column = pd.Series(range(1, len(combined_df) + 1), name='id')\n",
    "combined_df = pd.concat([id_column, combined_df], axis=1)\n",
    "df = pd.read_csv(\"bus5_routes.csv\")"
   ]
  },
  {
   "cell_type": "code",
   "execution_count": 20,
   "id": "50ee93c3-4ab7-4ac8-9c49-b6faca161458",
   "metadata": {},
   "outputs": [
    {
     "name": "stdout",
     "output_type": "stream",
     "text": [
      "<class 'pandas.core.frame.DataFrame'>\n",
      "RangeIndex: 505 entries, 0 to 504\n",
      "Data columns (total 10 columns):\n",
      " #   Column             Non-Null Count  Dtype  \n",
      "---  ------             --------------  -----  \n",
      " 0   Route_Name         505 non-null    object \n",
      " 1   Route_Link         505 non-null    object \n",
      " 2   Bus_Name           486 non-null    object \n",
      " 3   Bus_Type           481 non-null    object \n",
      " 4   Departing_Time     485 non-null    object \n",
      " 5   Duration           485 non-null    object \n",
      " 6   Reaching_Time      485 non-null    object \n",
      " 7   Star_Rating        483 non-null    float64\n",
      " 8   Price              485 non-null    object \n",
      " 9   Seat_Availability  483 non-null    object \n",
      "dtypes: float64(1), object(9)\n",
      "memory usage: 39.6+ KB\n"
     ]
    }
   ],
   "source": [
    "df.info()"
   ]
  },
  {
   "cell_type": "code",
   "execution_count": 24,
   "id": "38d8a337-ec16-4c69-a6a5-1b39c1cc7422",
   "metadata": {},
   "outputs": [
    {
     "name": "stdout",
     "output_type": "stream",
     "text": [
      "Collecting pymysql\n",
      "  Downloading PyMySQL-1.1.1-py3-none-any.whl.metadata (4.4 kB)\n",
      "Downloading PyMySQL-1.1.1-py3-none-any.whl (44 kB)\n",
      "Installing collected packages: pymysql\n",
      "Successfully installed pymysql-1.1.1\n",
      "Note: you may need to restart the kernel to use updated packages.\n"
     ]
    }
   ],
   "source": [
    "pip install pymysql"
   ]
  },
  {
   "cell_type": "code",
   "execution_count": 30,
   "id": "1f15c708-0aaa-443e-9804-399db966faea",
   "metadata": {},
   "outputs": [],
   "source": [
    "import pymysql\n",
    "\n",
    "# Connect to MySQL\n",
    "myconnection = pymysql.connect(host='localhost', user='chakradhar', passwd='chakradhar123456789', database=\"bus\")\n",
    "\n",
    "# Drop null values in the DataFrame before inserting into MySQL\n",
    "combined_df = combined_df.dropna()\n",
    "\n",
    "# Mapping pandas dtypes to MySQL-compatible types\n",
    "col_types = \",\".join(f\"{col} {dtype}\"\n",
    "                     for col, dtype in zip(combined_df.columns, combined_df.dtypes))\n",
    "col_types = col_types.replace(\"float64\", \"FLOAT\").replace(\"object\", \"TEXT\").replace(\"int64\", \"INT\")\n",
    "\n",
    "# Create cursor\n",
    "cursor = myconnection.cursor()\n",
    "\n",
    "# Create table with IF NOT EXISTS\n",
    "table_name = \"All1\"\n",
    "create_table_query = f\"CREATE TABLE IF NOT EXISTS {table_name} ({col_types})\"\n",
    "cursor.execute(create_table_query)\n",
    "\n",
    "# Insert data into MySQL using parameterized queries\n",
    "insert_query = f\"INSERT INTO {table_name} VALUES ({', '.join(['%s'] * len(combined_df.columns))})\"\n",
    "\n",
    "for row in combined_df.itertuples(index=False, name=None):\n",
    "    cursor.execute(insert_query, row)\n",
    "\n",
    "# Commit the transaction\n",
    "myconnection.commit()\n",
    "\n",
    "# Close cursor and connection\n",
    "cursor.close()\n",
    "myconnection.close()\n"
   ]
  },
  {
   "cell_type": "code",
   "execution_count": null,
   "id": "39210a2b-9cc4-438d-92d6-7eca85d2c0bc",
   "metadata": {},
   "outputs": [],
   "source": []
  },
  {
   "cell_type": "code",
   "execution_count": null,
   "id": "f307c954-01f5-4d86-84c5-8e7fa02cc4ae",
   "metadata": {},
   "outputs": [],
   "source": []
  }
 ],
 "metadata": {
  "kernelspec": {
   "display_name": "Python 3 (ipykernel)",
   "language": "python",
   "name": "python3"
  },
  "language_info": {
   "codemirror_mode": {
    "name": "ipython",
    "version": 3
   },
   "file_extension": ".py",
   "mimetype": "text/x-python",
   "name": "python",
   "nbconvert_exporter": "python",
   "pygments_lexer": "ipython3",
   "version": "3.12.4"
  }
 },
 "nbformat": 4,
 "nbformat_minor": 5
}
